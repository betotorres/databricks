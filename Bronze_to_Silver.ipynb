{
 "cells": [
  {
   "cell_type": "code",
   "execution_count": 0,
   "metadata": {
    "application/vnd.databricks.v1+cell": {
     "cellMetadata": {
      "byteLimit": 2048000,
      "rowLimit": 10000
     },
     "inputWidgets": {},
     "nuid": "a0538dcd-8468-407e-bf7a-5caa59891750",
     "showTitle": false,
     "tableResultSettingsMap": {},
     "title": ""
    }
   },
   "outputs": [
    {
     "output_type": "execute_result",
     "data": {
      "text/plain": [
       "<pyspark.sql.connect.streaming.query.StreamingQuery at 0xffdc102c0310>"
      ]
     },
     "execution_count": 5,
     "metadata": {},
     "output_type": "execute_result"
    }
   ],
   "source": [
    "from pyspark.sql.functions import col, when\n",
    "\n",
    "# Read streaming data from the bronze table\n",
    "bronze_df = spark.readStream.table(\"desenvolvimento.bronze.artists\")\n",
    "\n",
    "# Replace null values in the 'genres' column with \"Not Defined\"\n",
    "silver_df = bronze_df.withColumn(\"genres\", when(col(\"genres\").isNull(), \"Not Defined\").otherwise(col(\"genres\")))\n",
    "\n",
    "# Write the transformed data to the silver table\n",
    "silver_df.writeStream \\\n",
    "    .format(\"delta\") \\\n",
    "    .option(\"checkpointLocation\", \"/Volumes/desenvolvimento/bronze/checkpoints/artists_to_silver\") \\\n",
    "    .trigger(availableNow=True) \\\n",
    "    .table(\"desenvolvimento.silver.artists\")"
   ]
  },
  {
   "cell_type": "code",
   "execution_count": 0,
   "metadata": {
    "application/vnd.databricks.v1+cell": {
     "cellMetadata": {
      "byteLimit": 2048000,
      "rowLimit": 10000
     },
     "inputWidgets": {},
     "nuid": "ec85a115-03be-445f-becb-ef3e509b078c",
     "showTitle": false,
     "tableResultSettingsMap": {},
     "title": ""
    }
   },
   "outputs": [
    {
     "output_type": "execute_result",
     "data": {
      "text/plain": [
       "<pyspark.sql.connect.streaming.query.StreamingQuery at 0xffdc19cc57d0>"
      ]
     },
     "execution_count": 6,
     "metadata": {},
     "output_type": "execute_result"
    }
   ],
   "source": [
    "from pyspark.sql.functions import when, col, to_date, lit\n",
    "\n",
    "# Read streaming data from the bronze table\n",
    "bronze_df = spark.readStream.table(\"desenvolvimento.bronze.tracks\")\n",
    "\n",
    "# Replace null values in the 'genres' column with \"Not Defined\"\n",
    "silver_df = (bronze_df.withColumn(\"key\", when(col(\"key\").isNull(), 0).otherwise(col(\"key\")))\n",
    "    .withColumn(\"mode\", when(col(\"mode\").isNull(), 0).otherwise(col(\"mode\")))\n",
    "    .withColumn(\"time_signature\", when(col(\"time_signature\").isNull(), 0).otherwise(col(\"time_signature\")))\n",
    "    .withColumn(\n",
    "        \"release_date\",\n",
    "        when(\n",
    "            (to_date(col(\"release_date\"), \"yyyy-MM-dd\") > lit(\"2025-07-12\")) |\n",
    "            (to_date(col(\"release_date\"), \"yyyy-MM-dd\") < lit(\"1900-01-01\")) |\n",
    "            col(\"release_date\").isNull(),\n",
    "            None\n",
    "        ).otherwise(col(\"release_date\"))\n",
    "    ))\n",
    "\n",
    "# Write the transformed data to the silver table\n",
    "silver_df.writeStream \\\n",
    "    .format(\"delta\") \\\n",
    "    .option(\"checkpointLocation\", \"/Volumes/desenvolvimento/bronze/checkpoints/tracks_to_silver\") \\\n",
    "    .trigger(availableNow=True) \\\n",
    "    .table(\"desenvolvimento.silver.tracks\")"
   ]
  }
 ],
 "metadata": {
  "application/vnd.databricks.v1+notebook": {
   "computePreferences": null,
   "dashboards": [],
   "environmentMetadata": {
    "base_environment": "",
    "environment_version": "2"
   },
   "inputWidgetPreferences": null,
   "language": "python",
   "notebookMetadata": {
    "mostRecentlyExecutedCommandWithImplicitDF": {
     "commandId": 5026736163138434,
     "dataframes": [
      "_sqldf"
     ]
    },
    "pythonIndentUnit": 4
   },
   "notebookName": "Bronze_to_Silver",
   "widgets": {}
  },
  "language_info": {
   "name": "python"
  }
 },
 "nbformat": 4,
 "nbformat_minor": 0
}