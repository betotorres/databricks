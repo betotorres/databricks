{
 "cells": [
  {
   "cell_type": "code",
   "execution_count": 0,
   "metadata": {
    "application/vnd.databricks.v1+cell": {
     "cellMetadata": {
      "byteLimit": 2048000,
      "rowLimit": 10000
     },
     "inputWidgets": {},
     "nuid": "1c99c643-2bd1-4ecd-be22-805513725575",
     "showTitle": false,
     "tableResultSettingsMap": {},
     "title": ""
    }
   },
   "outputs": [
    {
     "output_type": "execute_result",
     "data": {
      "text/plain": [
       "<pyspark.sql.connect.streaming.query.StreamingQuery at 0xff37d4cad390>"
      ]
     },
     "execution_count": 2,
     "metadata": {},
     "output_type": "execute_result"
    }
   ],
   "source": [
    "from pyspark.sql.functions import input_file_name\n",
    "\n",
    "raw_path = \"/Volumes/desenvolvimento/bronze/raw/artists/\"\n",
    "\n",
    "df = (\n",
    "    spark.readStream.format(\"cloudFiles\")\n",
    "    .option(\"cloudFiles.format\", \"csv\")\n",
    "    .option(\"header\", \"true\")\n",
    "    .option(\"cloudFiles.schemaLocation\", \"/Volumes/desenvolvimento/bronze/schemas/artists\")\n",
    "    .schema(\"id STRING, name STRING, followers INT, popularity INT\")\n",
    "    .load(raw_path)\n",
    ")\n",
    "\n",
    "(\n",
    "    df.writeStream\n",
    "    .format(\"delta\")\n",
    "    .option(\"checkpointLocation\", \"/Volumes/desenvolvimento/bronze/checkpoints/artists\")\n",
    "    .outputMode(\"append\")\n",
    "    .trigger(once=True)\n",
    "    .toTable(\"desenvolvimento.bronze.artists\")\n",
    ")\n"
   ]
  },
  {
   "cell_type": "code",
   "execution_count": 0,
   "metadata": {
    "application/vnd.databricks.v1+cell": {
     "cellMetadata": {
      "byteLimit": 2048000,
      "implicitDf": true,
      "rowLimit": 10000
     },
     "inputWidgets": {},
     "nuid": "4a1a5b91-56f0-4a71-89bf-aa29ac9e14de",
     "showTitle": false,
     "tableResultSettingsMap": {},
     "title": ""
    }
   },
   "outputs": [
    {
     "output_type": "execute_result",
     "data": {
      "text/plain": [
       "<pyspark.sql.connect.streaming.query.StreamingQuery at 0xff37d5828610>"
      ]
     },
     "execution_count": 3,
     "metadata": {},
     "output_type": "execute_result"
    }
   ],
   "source": [
    "from pyspark.sql.functions import input_file_name\n",
    "\n",
    "raw_path = \"/Volumes/desenvolvimento/bronze/raw/tracks/\"\n",
    "\n",
    "df = (\n",
    "    spark.readStream.format(\"cloudFiles\")\n",
    "    .option(\"cloudFiles.format\", \"csv\")\n",
    "    .option(\"header\", \"true\")\n",
    "    .option(\"cloudFiles.schemaLocation\", \"/Volumes/desenvolvimento/bronze/schemas/tracks\")\n",
    "    .schema(\"id STRING, name STRING,popularity BIGINT, duration_ms BIGINT,explicit BIGINT,artists STRING,id_artists STRING, release_date TIMESTAMP,danceability DOUBLE,energy DOUBLE,key BIGINT,loudness DOUBLE,mode BIGINT,speechiness DOUBLE,acousticness DOUBLE,instrumentalness DOUBLE,liveness DOUBLE,valence DOUBLE,tempo DOUBLE,time_signature BIGINT\")\n",
    "    .load(raw_path)\n",
    ")\n",
    "\n",
    "(\n",
    "    df.writeStream\n",
    "    .format(\"delta\")\n",
    "    .option(\"checkpointLocation\", \"/Volumes/desenvolvimento/bronze/checkpoints/tracks\")\n",
    "    .outputMode(\"append\")\n",
    "    .trigger(once=True)\n",
    "    .toTable(\"desenvolvimento.bronze.tracks\")\n",
    ")\n"
   ]
  }
 ],
 "metadata": {
  "application/vnd.databricks.v1+notebook": {
   "computePreferences": null,
   "dashboards": [],
   "environmentMetadata": {
    "base_environment": "",
    "environment_version": "2"
   },
   "inputWidgetPreferences": null,
   "language": "python",
   "notebookMetadata": {
    "mostRecentlyExecutedCommandWithImplicitDF": {
     "commandId": 8697797580567901,
     "dataframes": [
      "_sqldf"
     ]
    },
    "pythonIndentUnit": 4
   },
   "notebookName": "Raw_to_Bronze",
   "widgets": {}
  },
  "language_info": {
   "name": "python"
  }
 },
 "nbformat": 4,
 "nbformat_minor": 0
}